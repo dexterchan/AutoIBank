{
 "cells": [
  {
   "cell_type": "code",
   "execution_count": 1,
   "metadata": {},
   "outputs": [],
   "source": [
    "import json"
   ]
  },
  {
   "cell_type": "code",
   "execution_count": 2,
   "metadata": {},
   "outputs": [],
   "source": [
    "with open('SelectedSecurity.json') as json_file:\n",
    "    hkmaisin = json.load(json_file)"
   ]
  },
  {
   "cell_type": "code",
   "execution_count": 3,
   "metadata": {},
   "outputs": [],
   "source": [
    "def transformYear(b):\n",
    "    b['original_maturity'] = int(b['original_maturity'].split(\"-\")[0])\n",
    "    return b\n",
    "hkmaisin_=list(map(lambda b: transformYear(b),hkmaisin))"
   ]
  },
  {
   "cell_type": "code",
   "execution_count": 4,
   "metadata": {},
   "outputs": [],
   "source": [
    "from collections import defaultdict\n",
    "TenorVsBond = defaultdict(list)\n",
    "for b in hkmaisin_:\n",
    "    TenorVsBond[ b['original_maturity'] ].append(b)"
   ]
  },
  {
   "cell_type": "code",
   "execution_count": 5,
   "metadata": {},
   "outputs": [],
   "source": [
    "import random\n",
    "import numpy as np\n",
    "import uuid\n",
    "import re\n",
    "from typing import Dict\n",
    "import time\n",
    "\n",
    "class PrimaryInvestorRobot:\n",
    "    def __init__ (self,name:str,TenorVsBond:Dict[int, Dict], tenorWeight:Dict[int, float], notional:int, std:float, bidask=\"ASK\", ccy=\"HKD\"):\n",
    "        self.name = name\n",
    "        self.TenorVsBond = TenorVsBond\n",
    "        self.tenorWeight = tenorWeight\n",
    "        self.notional = notional\n",
    "        self.bidask = bidask\n",
    "        self.std = std\n",
    "        self.ccy = \"HKD\"\n",
    "        self.YMDMatcher = re.compile(r\"(\\d{4})-(\\d{2})-(\\d{2})\")\n",
    "    def generateTrade(self):\n",
    "        tenor = random.choices(list(tenorWeight.keys()), weights=list(tenorWeight.values()), k=1)[0]\n",
    "        tradeid = str(uuid.uuid4())\n",
    "        trade={}\n",
    "        asset={}\n",
    "\n",
    "        trade[\"id\"] = tradeid\n",
    "        trade[\"tradeType\"] = \"BOND\"\n",
    "        trade[\"timestamp\"] = int(time.time() * 1000)\n",
    "        security = random.choice(list(self.TenorVsBond[tenor]))\n",
    "        \n",
    "        mDate = self.YMDMatcher.match(security['expected_maturity_date'])\n",
    "        if mDate is not None:\n",
    "            year = int(mDate.group(1)) - tenor\n",
    "            trade[\"tradeDate\"] = f\"{year}-{mDate.group(2)}-{mDate.group(3)}\"\n",
    "        \n",
    "        asset['securityId'] = security['isin_code']\n",
    "        asset['currency'] = self.ccy\n",
    "        asset['price'] = float(security[\"coupon\"])\n",
    "        asset[\"bidask\"] = self.bidask\n",
    "        asset[\"notional\"] = int(np.round(np.abs(np.random.normal(0, self.std, 1)), -3)[0])+self.notional\n",
    "        trade['asset'] = asset\n",
    "        \n",
    "        return trade"
   ]
  },
  {
   "cell_type": "code",
   "execution_count": 6,
   "metadata": {},
   "outputs": [],
   "source": [
    "tenorWeight = {15:0.3, 10:0.5, 5:0.2}\n",
    "primaryInvestorRobot = PrimaryInvestorRobot(\"abcd\",TenorVsBond,tenorWeight, 10000000,10000000)\n",
    "sampleTrade = primaryInvestorRobot.generateTrade()"
   ]
  },
  {
   "cell_type": "code",
   "execution_count": 7,
   "metadata": {},
   "outputs": [
    {
     "data": {
      "text/plain": [
       "{'id': 'bae8fa88-1470-4681-9718-2716229d2bf1',\n",
       " 'tradeType': 'BOND',\n",
       " 'timestamp': 1580655986329,\n",
       " 'tradeDate': '2011-08-04',\n",
       " 'asset': {'securityId': 'HK0000085537',\n",
       "  'currency': 'HKD',\n",
       "  'price': 2.46,\n",
       "  'bidask': 'ASK',\n",
       "  'notional': 10312000}}"
      ]
     },
     "execution_count": 7,
     "metadata": {},
     "output_type": "execute_result"
    }
   ],
   "source": [
    "sampleTrade"
   ]
  },
  {
   "cell_type": "markdown",
   "metadata": {},
   "source": [
    "## write to avro file\n",
    ">Reference : http://layer0.authentise.com/getting-started-with-avro-and-python-3.html"
   ]
  },
  {
   "cell_type": "code",
   "execution_count": 8,
   "metadata": {},
   "outputs": [],
   "source": [
    "import avro.schema\n",
    "from avro.datafile import DataFileReader, DataFileWriter\n",
    "from avro.io import DatumReader, DatumWriter"
   ]
  },
  {
   "cell_type": "code",
   "execution_count": 9,
   "metadata": {},
   "outputs": [],
   "source": [
    "import avro.schema\n",
    "from avro.datafile import DataFileReader, DataFileWriter\n",
    "from avro.io import DatumReader, DatumWriter"
   ]
  },
  {
   "cell_type": "code",
   "execution_count": 10,
   "metadata": {},
   "outputs": [],
   "source": [
    "schemaFile = \"bondtrade.avsc\"\n",
    "avroFile = \"bondtrade.avro\""
   ]
  },
  {
   "cell_type": "code",
   "execution_count": 11,
   "metadata": {},
   "outputs": [],
   "source": [
    "schema = avro.schema.Parse(open(schemaFile, \"rb\").read())"
   ]
  },
  {
   "cell_type": "code",
   "execution_count": 12,
   "metadata": {},
   "outputs": [],
   "source": [
    "writer = DataFileWriter(open(avroFile, \"wb\"), DatumWriter(), schema)"
   ]
  },
  {
   "cell_type": "code",
   "execution_count": 13,
   "metadata": {},
   "outputs": [
    {
     "ename": "NameError",
     "evalue": "name 'trade' is not defined",
     "output_type": "error",
     "traceback": [
      "\u001b[0;31m---------------------------------------------------------------------------\u001b[0m",
      "\u001b[0;31mNameError\u001b[0m                                 Traceback (most recent call last)",
      "\u001b[0;32m<ipython-input-13-0310ad65f5ba>\u001b[0m in \u001b[0;36m<module>\u001b[0;34m\u001b[0m\n\u001b[0;32m----> 1\u001b[0;31m \u001b[0mwriter\u001b[0m\u001b[0;34m.\u001b[0m\u001b[0mappend\u001b[0m\u001b[0;34m(\u001b[0m\u001b[0mtrade\u001b[0m\u001b[0;34m)\u001b[0m\u001b[0;34m;\u001b[0m\u001b[0;34m\u001b[0m\u001b[0;34m\u001b[0m\u001b[0m\n\u001b[0m",
      "\u001b[0;31mNameError\u001b[0m: name 'trade' is not defined"
     ]
    }
   ],
   "source": [
    "writer.append(sampleTrade);"
   ]
  },
  {
   "cell_type": "code",
   "execution_count": null,
   "metadata": {},
   "outputs": [],
   "source": [
    "writer.close()"
   ]
  },
  {
   "cell_type": "code",
   "execution_count": null,
   "metadata": {},
   "outputs": [],
   "source": [
    "#reader = DataFileReader(open(avroFile, \"rb\"), DatumReader())\n",
    "#for bondtrade in reader:\n",
    "#    print (bondtrade)\n",
    "#reader.close()"
   ]
  },
  {
   "cell_type": "code",
   "execution_count": null,
   "metadata": {},
   "outputs": [],
   "source": [
    "uuid.uuid4()"
   ]
  },
  {
   "cell_type": "code",
   "execution_count": null,
   "metadata": {},
   "outputs": [],
   "source": []
  }
 ],
 "metadata": {
  "kernelspec": {
   "display_name": "py3env2020",
   "language": "python",
   "name": "py3env2020"
  },
  "language_info": {
   "codemirror_mode": {
    "name": "ipython",
    "version": 3
   },
   "file_extension": ".py",
   "mimetype": "text/x-python",
   "name": "python",
   "nbconvert_exporter": "python",
   "pygments_lexer": "ipython3",
   "version": "3.7.6"
  }
 },
 "nbformat": 4,
 "nbformat_minor": 4
}
