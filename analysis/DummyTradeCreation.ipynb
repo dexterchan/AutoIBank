{
 "cells": [
  {
   "cell_type": "code",
   "execution_count": 1,
   "metadata": {},
   "outputs": [],
   "source": [
    "hkmaisin=[\n",
    "{\n",
    "    \"expected_maturity_date\" : \"2034-03-07\",\n",
    "    \"original_maturity\" : \"15-year (15 年)\",\n",
    "    \"isin_code\" : \"HK0000486388\",\n",
    "    \"coupon\" : \"2.02\"\n",
    "},{\n",
    "    \"expected_maturity_date\" : \"2032-03-02\",\n",
    "    \"original_maturity\" : \"15-year (15 年)\",\n",
    "    \"isin_code\" : \"HK0000329679\",\n",
    "    \"coupon\" : \"1.89\"\n",
    "},{\n",
    "    \"expected_maturity_date\" : \"2030-07-16\",\n",
    "    \"original_maturity\" : \"15-year (15 年)\",\n",
    "    \"isin_code\" : \"HK0000257821\",\n",
    "    \"coupon\" : \"2.13\"\n",
    "},{\n",
    "    \"expected_maturity_date\" : \"2029-01-17\",\n",
    "    \"original_maturity\" : \"10-year (10 年)\",\n",
    "    \"isin_code\" : \"HK0000474293\",\n",
    "    \"coupon\" : \"1.97\"\n",
    "},{\n",
    "    \"expected_maturity_date\" : \"2027-06-29\",\n",
    "    \"original_maturity\" : \"10-year (10 年)\",\n",
    "    \"isin_code\" : \"HK0000345436\",\n",
    "    \"coupon\" : \"1.25\"\n",
    "},{\n",
    "    \"expected_maturity_date\" : \"2026-01-21\",\n",
    "    \"original_maturity\" : \"10-year (10 年)\",\n",
    "    \"isin_code\" : \"HK0000280708\",\n",
    "    \"coupon\" : \"1.68\"\n",
    "},{\n",
    "    \"expected_maturity_date\" : \"2024-08-07\",\n",
    "    \"original_maturity\" : \"10-year (10 年)\",\n",
    "    \"isin_code\" : \"HK0000209236\",\n",
    "    \"coupon\" : \"2.22\"\n",
    "},{\n",
    "    \"expected_maturity_date\" : \"2023-01-17\",\n",
    "    \"original_maturity\" : \"10-year (10 年)\",\n",
    "    \"isin_code\" : \"HK0000135431\",\n",
    "    \"coupon\" : \"1.10\"\n",
    "},{\n",
    "    \"expected_maturity_date\" : \"2022-07-29\",\n",
    "    \"original_maturity\" : \"3-year (3 年)\",\n",
    "    \"isin_code\" : \"HK0000515046\",\n",
    "    \"coupon\" : \"Floating (浮息)\"\n",
    "},{\n",
    "    \"expected_maturity_date\" : \"2022-05-18\",\n",
    "    \"original_maturity\" : \"5-year (5 年)\",\n",
    "    \"isin_code\" : \"HK0000339298\",\n",
    "    \"coupon\" : \"1.16\"\n",
    "},{\n",
    "    \"expected_maturity_date\" : \"2021-12-17\",\n",
    "    \"original_maturity\" : \"3-year (3 年)\",\n",
    "    \"isin_code\" : \"HK0000464617\",\n",
    "    \"coupon\" : \"Floating (浮息)\"\n",
    "},{\n",
    "    \"expected_maturity_date\" : \"2021-08-04\",\n",
    "    \"original_maturity\" : \"10-year (10 年)\",\n",
    "    \"isin_code\" : \"HK0000085537\",\n",
    "    \"coupon\" : \"2.46\"\n",
    "},{\n",
    "    \"expected_maturity_date\" : \"2020-11-05\",\n",
    "    \"original_maturity\" : \"5-year (5 年)\",\n",
    "    \"isin_code\" : \"HK0000271582\",\n",
    "    \"coupon\" : \"0.91\"\n",
    "},{\n",
    "    \"expected_maturity_date\" : \"2020-06-23\",\n",
    "    \"original_maturity\" : \"3-year (3 年)\",\n",
    "    \"isin_code\" : \"HK0000340619\",\n",
    "    \"coupon\" : \"Floating (浮息)\"\n",
    "},{\n",
    "    \"expected_maturity_date\" : \"2020-02-05\",\n",
    "    \"original_maturity\" : \"5-year (5 年)\",\n",
    "    \"isin_code\" : \"HK0000235769\",\n",
    "    \"coupon\" : \"1.06\"\n",
    "},{\n",
    "    \"expected_maturity_date\" : \"2020-01-13\",\n",
    "    \"original_maturity\" : \"10-year (10 年)\",\n",
    "    \"isin_code\" : \"HK0000059292\",\n",
    "    \"coupon\" : \"2.93\"\n",
    "}]"
   ]
  },
  {
   "cell_type": "code",
   "execution_count": 2,
   "metadata": {},
   "outputs": [],
   "source": [
    "import json"
   ]
  },
  {
   "cell_type": "code",
   "execution_count": 3,
   "metadata": {},
   "outputs": [],
   "source": [
    "def transformYear(b):\n",
    "    b['original_maturity'] = int(b['original_maturity'].split(\"-\")[0])\n",
    "    return b\n",
    "hkmaisin_=list(map(lambda b: transformYear(b),hkmaisin))"
   ]
  },
  {
   "cell_type": "code",
   "execution_count": 4,
   "metadata": {},
   "outputs": [],
   "source": [
    "from collections import defaultdict\n",
    "TenorVsBond = defaultdict(list)\n",
    "for b in hkmaisin_:\n",
    "    TenorVsBond[ b['original_maturity'] ].append(b)"
   ]
  },
  {
   "cell_type": "code",
   "execution_count": 33,
   "metadata": {},
   "outputs": [],
   "source": [
    "import random\n",
    "import numpy as np\n",
    "import uuid\n",
    "import re\n",
    "from typing import Dict\n",
    "import time\n",
    "\n",
    "class PrimaryInvestorRobot:\n",
    "    def __init__ (self,name:str,TenorVsBond:Dict[int, Dict], tenorWeight:Dict[int, float], notional:int, std:float, bidask=\"ASK\", ccy=\"HKD\"):\n",
    "        self.name = name\n",
    "        self.TenorVsBond = TenorVsBond\n",
    "        self.tenorWeight = tenorWeight\n",
    "        self.notional = notional\n",
    "        self.bidask = bidask\n",
    "        self.std = std\n",
    "        self.ccy = \"HKD\"\n",
    "        self.YMDMatcher = re.compile(r\"(\\d{4})-(\\d{2})-(\\d{2})\")\n",
    "    def generateTrade(self):\n",
    "        tenor = random.choices(list(tenorWeight.keys()), weights=list(tenorWeight.values()), k=1)[0]\n",
    "        tradeid = str(uuid.uuid4())\n",
    "        trade={}\n",
    "        asset={}\n",
    "\n",
    "        trade[\"id\"] = tradeid\n",
    "        trade[\"tradeType\"] = \"BOND\"\n",
    "        trade[\"timestamp\"] = int(time.time() * 1000)\n",
    "        security = random.choice(list(self.TenorVsBond[tenor]))\n",
    "        \n",
    "        mDate = self.YMDMatcher.match(security['expected_maturity_date'])\n",
    "        if mDate is not None:\n",
    "            year = int(mDate.group(1)) - tenor\n",
    "            trade[\"tradeDate\"] = f\"{year}-{mDate.group(2)}-{mDate.group(3)}\"\n",
    "        \n",
    "        asset['securityId'] = security['isin_code']\n",
    "        asset['currency'] = self.ccy\n",
    "        asset['price'] = float(security[\"coupon\"])\n",
    "        asset[\"bidask\"] = self.bidask\n",
    "        asset[\"notional\"] = int(np.round(np.abs(np.random.normal(0, self.std, 1)), -3)[0])+self.notional\n",
    "        trade['asset'] = asset\n",
    "        \n",
    "        return trade"
   ]
  },
  {
   "cell_type": "code",
   "execution_count": 34,
   "metadata": {},
   "outputs": [],
   "source": [
    "tenorWeight = {15:0.3, 10:0.5, 5:0.2}\n",
    "primaryInvestorRobot = PrimaryInvestorRobot(\"abcd\",TenorVsBond,tenorWeight, 10000000,10000000)\n",
    "trade = primaryInvestorRobot.generateTrade()"
   ]
  },
  {
   "cell_type": "code",
   "execution_count": 35,
   "metadata": {},
   "outputs": [
    {
     "data": {
      "text/plain": [
       "{'id': 'c5253e6d-1c39-4ba2-9e0c-ffc165e22e07',\n",
       " 'tradeType': 'BOND',\n",
       " 'timestamp': 1580652874823,\n",
       " 'tradeDate': '2016-01-21',\n",
       " 'asset': {'securityId': 'HK0000280708',\n",
       "  'currency': 'HKD',\n",
       "  'price': 1.68,\n",
       "  'notional': 18572000}}"
      ]
     },
     "execution_count": 35,
     "metadata": {},
     "output_type": "execute_result"
    }
   ],
   "source": [
    "trade"
   ]
  },
  {
   "cell_type": "markdown",
   "metadata": {},
   "source": [
    "## write to avro file\n",
    ">Reference : http://layer0.authentise.com/getting-started-with-avro-and-python-3.html"
   ]
  },
  {
   "cell_type": "code",
   "execution_count": 36,
   "metadata": {},
   "outputs": [],
   "source": [
    "import avro.schema\n",
    "from avro.datafile import DataFileReader, DataFileWriter\n",
    "from avro.io import DatumReader, DatumWriter"
   ]
  },
  {
   "cell_type": "code",
   "execution_count": 37,
   "metadata": {},
   "outputs": [],
   "source": [
    "import avro.schema\n",
    "from avro.datafile import DataFileReader, DataFileWriter\n",
    "from avro.io import DatumReader, DatumWriter"
   ]
  },
  {
   "cell_type": "code",
   "execution_count": 38,
   "metadata": {},
   "outputs": [],
   "source": [
    "schema = avro.schema.Parse(open(\"bondtrade.avsc\", \"rb\").read())"
   ]
  },
  {
   "cell_type": "code",
   "execution_count": 39,
   "metadata": {},
   "outputs": [],
   "source": [
    "writer = DataFileWriter(open(\"bondtrade.avro\", \"wb\"), DatumWriter(), schema)\n",
    "writer.append(trade);\n",
    "writer.close()"
   ]
  },
  {
   "cell_type": "code",
   "execution_count": null,
   "metadata": {},
   "outputs": [],
   "source": []
  }
 ],
 "metadata": {
  "kernelspec": {
   "display_name": "py3env2020",
   "language": "python",
   "name": "py3env2020"
  },
  "language_info": {
   "codemirror_mode": {
    "name": "ipython",
    "version": 3
   },
   "file_extension": ".py",
   "mimetype": "text/x-python",
   "name": "python",
   "nbconvert_exporter": "python",
   "pygments_lexer": "ipython3",
   "version": "3.7.6"
  }
 },
 "nbformat": 4,
 "nbformat_minor": 4
}
